{
  "cells": [
    {
      "metadata": {
        "collapsed": true
      },
      "cell_type": "markdown",
      "source": "# Teaching notes OOP in python"
    },
    {
      "metadata": {},
      "cell_type": "markdown",
      "source": "## Declaration of a class"
    },
    {
      "metadata": {
        "trusted": true
      },
      "cell_type": "code",
      "source": "class Person:\n    pass",
      "execution_count": 2,
      "outputs": []
    },
    {
      "metadata": {},
      "cell_type": "markdown",
      "source": "create an instance of the class"
    },
    {
      "metadata": {},
      "cell_type": "raw",
      "source": "p = Person()"
    },
    {
      "metadata": {},
      "cell_type": "markdown",
      "source": "## Creating a constructor"
    },
    {
      "metadata": {
        "trusted": true
      },
      "cell_type": "code",
      "source": "class Person:\n    def __init__(self):\n        pass",
      "execution_count": null,
      "outputs": []
    },
    {
      "metadata": {},
      "cell_type": "markdown",
      "source": "The init method and any other method should always have __self__ as a first parameter."
    },
    {
      "metadata": {},
      "cell_type": "markdown",
      "source": "## Instance and class variables"
    },
    {
      "metadata": {},
      "cell_type": "markdown",
      "source": "Instance attributes are defined in the __init__ method or in another method.  \nThey are denoted with the __self__ prefix. "
    },
    {
      "metadata": {
        "trusted": true
      },
      "cell_type": "code",
      "source": "class Person:\n    def __init__(self, name):\n        self.name = name # -> instance method",
      "execution_count": 4,
      "outputs": []
    },
    {
      "metadata": {},
      "cell_type": "markdown",
      "source": "Class methods can be defined outside any method, but inside the class scope, or inside methods. Typically you will declare them as the firt elements after the class declaration line. They are not denoted by __self__, and they are shared by all object created from the class. "
    },
    {
      "metadata": {
        "trusted": true
      },
      "cell_type": "code",
      "source": "class Person:\n    \n    type = 'Mammel' # class variable (no self in front of)\n    \n    def __init__(self, name):\n        pass",
      "execution_count": 5,
      "outputs": []
    },
    {
      "metadata": {},
      "cell_type": "markdown",
      "source": "Class variables can also be constructed through methods"
    },
    {
      "metadata": {
        "trusted": true
      },
      "cell_type": "code",
      "source": "class Person:  \n    def __init__(self, type):\n        Person.type = type",
      "execution_count": 22,
      "outputs": []
    },
    {
      "metadata": {},
      "cell_type": "markdown",
      "source": "**Eksample:**"
    },
    {
      "metadata": {
        "trusted": true
      },
      "cell_type": "code",
      "source": "p = Person('Mammel')",
      "execution_count": 29,
      "outputs": []
    },
    {
      "metadata": {
        "trusted": true
      },
      "cell_type": "code",
      "source": "p.type",
      "execution_count": 30,
      "outputs": [
        {
          "output_type": "execute_result",
          "execution_count": 30,
          "data": {
            "text/plain": "'Mammel'"
          },
          "metadata": {}
        }
      ]
    },
    {
      "metadata": {
        "trusted": true
      },
      "cell_type": "code",
      "source": "s = Person('Reptile')",
      "execution_count": 31,
      "outputs": []
    },
    {
      "metadata": {
        "trusted": true
      },
      "cell_type": "code",
      "source": "s.type",
      "execution_count": 32,
      "outputs": [
        {
          "output_type": "execute_result",
          "execution_count": 32,
          "data": {
            "text/plain": "'Reptile'"
          },
          "metadata": {}
        }
      ]
    },
    {
      "metadata": {
        "trusted": true
      },
      "cell_type": "code",
      "source": "p.type",
      "execution_count": 33,
      "outputs": [
        {
          "output_type": "execute_result",
          "execution_count": 33,
          "data": {
            "text/plain": "'Reptile'"
          },
          "metadata": {}
        }
      ]
    },
    {
      "metadata": {},
      "cell_type": "markdown",
      "source": "### Add / Change instance variables after declaration\nYou can at runtime add variables (and methods) to your object"
    },
    {
      "metadata": {
        "trusted": true
      },
      "cell_type": "code",
      "source": "p = Person('Claus')",
      "execution_count": 35,
      "outputs": []
    },
    {
      "metadata": {
        "trusted": true
      },
      "cell_type": "code",
      "source": "p.__dict__   # __dict__ is used to get a dictionary of all instance variables",
      "execution_count": 36,
      "outputs": [
        {
          "output_type": "execute_result",
          "execution_count": 36,
          "data": {
            "text/plain": "{}"
          },
          "metadata": {}
        }
      ]
    },
    {
      "metadata": {
        "trusted": true
      },
      "cell_type": "code",
      "source": "p.age = 23\np.sirname = 'Henningen'",
      "execution_count": 37,
      "outputs": []
    },
    {
      "metadata": {
        "trusted": true
      },
      "cell_type": "code",
      "source": "p.__dict__",
      "execution_count": 38,
      "outputs": [
        {
          "output_type": "execute_result",
          "execution_count": 38,
          "data": {
            "text/plain": "{'age': 23, 'sirname': 'Henningen'}"
          },
          "metadata": {}
        }
      ]
    },
    {
      "metadata": {},
      "cell_type": "markdown",
      "source": "### Add / Change class variables after declaration"
    },
    {
      "metadata": {
        "trusted": true
      },
      "cell_type": "code",
      "source": "Person.name = 'Kim'",
      "execution_count": 40,
      "outputs": []
    },
    {
      "metadata": {},
      "cell_type": "markdown",
      "source": "**Eksample:**"
    },
    {
      "metadata": {
        "trusted": true
      },
      "cell_type": "code",
      "source": "class Animal:\n    name = 'Fido'",
      "execution_count": 43,
      "outputs": []
    },
    {
      "metadata": {
        "trusted": true
      },
      "cell_type": "code",
      "source": "dog = Animal()\ncat = Animal()",
      "execution_count": 44,
      "outputs": []
    },
    {
      "metadata": {
        "trusted": true
      },
      "cell_type": "code",
      "source": "dog.name",
      "execution_count": 45,
      "outputs": [
        {
          "output_type": "execute_result",
          "execution_count": 45,
          "data": {
            "text/plain": "'Fido'"
          },
          "metadata": {}
        }
      ]
    },
    {
      "metadata": {
        "trusted": true
      },
      "cell_type": "code",
      "source": "cat.name",
      "execution_count": 46,
      "outputs": [
        {
          "output_type": "execute_result",
          "execution_count": 46,
          "data": {
            "text/plain": "'Fido'"
          },
          "metadata": {}
        }
      ]
    },
    {
      "metadata": {
        "trusted": true
      },
      "cell_type": "code",
      "source": "Animal.name = 'Esther'",
      "execution_count": 48,
      "outputs": []
    },
    {
      "metadata": {
        "trusted": true
      },
      "cell_type": "code",
      "source": "dog.name",
      "execution_count": 49,
      "outputs": [
        {
          "output_type": "execute_result",
          "execution_count": 49,
          "data": {
            "text/plain": "'Esther'"
          },
          "metadata": {}
        }
      ]
    },
    {
      "metadata": {
        "trusted": true
      },
      "cell_type": "code",
      "source": "cat.name",
      "execution_count": 50,
      "outputs": [
        {
          "output_type": "execute_result",
          "execution_count": 50,
          "data": {
            "text/plain": "'Esther'"
          },
          "metadata": {}
        }
      ]
    },
    {
      "metadata": {},
      "cell_type": "markdown",
      "source": "## @Overloading\nYou can read more about this [here]()\nand *args and **kwargs [here](https://realpython.com/python-kwargs-and-args/)\n\nOverloading in python is done by using the *args, and **kwargs arguments"
    },
    {
      "metadata": {
        "trusted": true
      },
      "cell_type": "code",
      "source": "def __init__(self, *args):\n    if len(args) == 1:\n        self.name = args[0]\n    elif len(args) == 2:\n        self.name = args[0]\n        self.sirn = args[1]\n    else:\n        raise NotImplemented",
      "execution_count": 20,
      "outputs": []
    },
    {
      "metadata": {},
      "cell_type": "markdown",
      "source": "# Inheritance"
    },
    {
      "metadata": {
        "trusted": true
      },
      "cell_type": "code",
      "source": "class Person:\n    def __init__(self, name):\n        self.name = name",
      "execution_count": 15,
      "outputs": []
    },
    {
      "metadata": {
        "trusted": true
      },
      "cell_type": "code",
      "source": "class Student(Person):\n    def __init__(self, name):\n        super().__init__(name)",
      "execution_count": 16,
      "outputs": []
    },
    {
      "metadata": {
        "trusted": true
      },
      "cell_type": "code",
      "source": "s = Student('Claus')",
      "execution_count": 17,
      "outputs": []
    },
    {
      "metadata": {},
      "cell_type": "markdown",
      "source": "This approach is also valid"
    },
    {
      "metadata": {
        "trusted": true
      },
      "cell_type": "code",
      "source": "class Student(Person):\n    def __init__(self, name):\n        Person.__init__(self, name)",
      "execution_count": 18,
      "outputs": []
    },
    {
      "metadata": {
        "trusted": true
      },
      "cell_type": "code",
      "source": "s = Student('Claus')",
      "execution_count": 19,
      "outputs": []
    },
    {
      "metadata": {
        "trusted": true
      },
      "cell_type": "markdown",
      "source": "### Mutiple inheritance\nIn Python You can inherite from multible classes"
    },
    {
      "metadata": {
        "trusted": true
      },
      "cell_type": "code",
      "source": "class Instructurer:\n    def __init__(self, course):\n        pass\n        \nclass Student(Person, Instructurer):\n    def __init__(self, name, course):\n        Person.__init__(self, name)\n        Instructurer.__init__(self, course)\n        \ns = Student('Claus', 'Co23')",
      "execution_count": 21,
      "outputs": []
    },
    {
      "metadata": {},
      "cell_type": "markdown",
      "source": "## Private members"
    },
    {
      "metadata": {
        "trusted": true
      },
      "cell_type": "code",
      "source": "class P:\n   def __init__(self, name, alias):\n      self.name = name       # public\n      self.__alias = alias   # private\n\n   def who(self):\n      print('name  : ', self.name)\n      print('alias : ', self.__alias)",
      "execution_count": 24,
      "outputs": []
    },
    {
      "metadata": {
        "trusted": true
      },
      "cell_type": "code",
      "source": "p = P('Claus', 'clbo')\np.who()",
      "execution_count": 25,
      "outputs": [
        {
          "output_type": "stream",
          "text": "name  :  Claus\nalias :  clbo\n",
          "name": "stdout"
        }
      ]
    },
    {
      "metadata": {},
      "cell_type": "markdown",
      "source": "Trying to access p.alias -> attribut does not exist"
    },
    {
      "metadata": {
        "trusted": true
      },
      "cell_type": "code",
      "source": "p.name\np.alias",
      "execution_count": 26,
      "outputs": [
        {
          "output_type": "error",
          "ename": "AttributeError",
          "evalue": "'P' object has no attribute 'alias'",
          "traceback": [
            "\u001b[0;31m---------------------------------------------------------------------------\u001b[0m",
            "\u001b[0;31mAttributeError\u001b[0m                            Traceback (most recent call last)",
            "\u001b[0;32m<ipython-input-26-80130101ca26>\u001b[0m in \u001b[0;36m<module>\u001b[0;34m\u001b[0m\n\u001b[1;32m      1\u001b[0m \u001b[0mp\u001b[0m\u001b[0;34m.\u001b[0m\u001b[0mname\u001b[0m\u001b[0;34m\u001b[0m\u001b[0m\n\u001b[0;32m----> 2\u001b[0;31m \u001b[0mp\u001b[0m\u001b[0;34m.\u001b[0m\u001b[0malias\u001b[0m\u001b[0;34m\u001b[0m\u001b[0m\n\u001b[0m",
            "\u001b[0;31mAttributeError\u001b[0m: 'P' object has no attribute 'alias'"
          ]
        }
      ]
    },
    {
      "metadata": {
        "trusted": true
      },
      "cell_type": "code",
      "source": "Since __alias is private Trying to access p.alias -> attribut does not exist",
      "execution_count": null,
      "outputs": []
    },
    {
      "metadata": {
        "trusted": true
      },
      "cell_type": "code",
      "source": "p.__alias",
      "execution_count": 32,
      "outputs": [
        {
          "output_type": "error",
          "ename": "AttributeError",
          "evalue": "'P' object has no attribute '__alias'",
          "traceback": [
            "\u001b[0;31m---------------------------------------------------------------------------\u001b[0m",
            "\u001b[0;31mAttributeError\u001b[0m                            Traceback (most recent call last)",
            "\u001b[0;32m<ipython-input-32-f640b37f79a1>\u001b[0m in \u001b[0;36m<module>\u001b[0;34m\u001b[0m\n\u001b[0;32m----> 1\u001b[0;31m \u001b[0mp\u001b[0m\u001b[0;34m.\u001b[0m\u001b[0m__alias\u001b[0m\u001b[0;34m\u001b[0m\u001b[0m\n\u001b[0m",
            "\u001b[0;31mAttributeError\u001b[0m: 'P' object has no attribute '__alias'"
          ]
        }
      ]
    },
    {
      "metadata": {},
      "cell_type": "markdown",
      "source": "You can access an objects private attributes like this  \nThis is why you sometimes will hear that private does not realy exists in python.  "
    },
    {
      "metadata": {
        "trusted": true
      },
      "cell_type": "code",
      "source": "p._P__alias",
      "execution_count": 28,
      "outputs": [
        {
          "output_type": "execute_result",
          "execution_count": 28,
          "data": {
            "text/plain": "'clbo'"
          },
          "metadata": {}
        }
      ]
    }
  ],
  "metadata": {
    "kernelspec": {
      "name": "python36",
      "display_name": "Python 3.6",
      "language": "python"
    }
  },
  "nbformat": 4,
  "nbformat_minor": 2
}